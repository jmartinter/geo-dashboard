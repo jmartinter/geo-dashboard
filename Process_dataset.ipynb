{
 "cells": [
  {
   "cell_type": "code",
   "execution_count": null,
   "metadata": {
    "collapsed": true
   },
   "outputs": [],
   "source": [
    "import os\n",
    "import httplib2\n",
    "import ConfigParser\n",
    "import numbers\n",
    "import pandas as pd\n",
    "from datetime import datetime\n",
    "from dateutil.relativedelta import relativedelta\n",
    "from oauth2client.service_account import ServiceAccountCredentials\n",
    "from pydrive.auth import GoogleAuth\n",
    "from pydrive.drive import GoogleDrive"
   ]
  },
  {
   "cell_type": "code",
   "execution_count": null,
   "metadata": {
    "collapsed": true
   },
   "outputs": [],
   "source": [
    "# This class allows to interact with GDrive\n",
    "# To do it, a service account is require\n",
    "# https://developers.google.com/identity/protocols/OAuth2ServiceAccount#creatinganaccount\n",
    "class GDrive(object):\n",
    "    def __init__(self, oauth_file):\n",
    "\n",
    "        # Create OAuth credentials\n",
    "        self._credentials = ServiceAccountCredentials.from_json_keyfile_name(oauth_file,\n",
    "                                                                             ['https://www.googleapis.com/auth/drive'])\n",
    "        self._credentials.authorize(httplib2.Http())\n",
    "        self._gauth = GoogleAuth()\n",
    "        self._gauth.credentials = self._credentials\n",
    "\n",
    "    def version(self, resource_id, path, file_handle):\n",
    "        # Creates object for interacting with GDrive API\n",
    "        drive = GoogleDrive(self._gauth)\n",
    "\n",
    "        # Gets remote file and update mime type if necessary\n",
    "        file1 = drive.CreateFile({'id': resource_id})\n",
    "        # Set mime type if different\n",
    "        if file1['mimeType'] != file_handle:\n",
    "            file1['mimeType'] = file_handle\n",
    "        # Replaces contents with local file\n",
    "        file1.SetContentFile(path)\n",
    "        file1.Upload()\n",
    "\n",
    "    def download(self, resource_id, file_name, path):\n",
    "        # Creates object for interacting with GDrive API\n",
    "        drive = GoogleDrive(self._gauth)\n",
    "\n",
    "        # Downloads existing file\n",
    "        file1 = drive.CreateFile({'id': resource_id})\n",
    "        file1.GetContentFile(os.path.join(path, file_name))\n",
    "\n",
    "        return file1"
   ]
  },
  {
   "cell_type": "code",
   "execution_count": null,
   "metadata": {
    "collapsed": false
   },
   "outputs": [],
   "source": [
    "config = ConfigParser.RawConfigParser()\n",
    "config.read(\"datasets.conf\")"
   ]
  },
  {
   "cell_type": "code",
   "execution_count": null,
   "metadata": {
    "collapsed": false,
    "scrolled": true
   },
   "outputs": [],
   "source": [
    "# Downloads last MRR matrix\n",
    "gdrive = GDrive(config.get('gdrive', 'auth_file'))\n",
    "f = gdrive.download(config.get('gdrive', 'input_csv_file_id'),\n",
    "                    config.get('mrr_input', 'file_name'),\n",
    "                    config.get('mrr_input', 'file_dir'))"
   ]
  },
  {
   "cell_type": "markdown",
   "metadata": {},
   "source": [
    "As we are accessing GDrive with a service account, remote file needs to be shared with it."
   ]
  },
  {
   "cell_type": "code",
   "execution_count": null,
   "metadata": {
    "collapsed": true
   },
   "outputs": [],
   "source": [
    "# Loads matrix to pandas and sets column names\n",
    "input_file = os.path.join(config.get('mrr_input', 'file_dir'), config.get('mrr_input', 'file_name'))\n",
    "customers_df = pd.read_csv(input_file, sep=',', header=0)"
   ]
  },
  {
   "cell_type": "code",
   "execution_count": null,
   "metadata": {
    "collapsed": false,
    "scrolled": true
   },
   "outputs": [],
   "source": [
    "customers_df"
   ]
  },
  {
   "cell_type": "code",
   "execution_count": null,
   "metadata": {
    "collapsed": false
   },
   "outputs": [],
   "source": [
    "# Removes all invoice columns but last two completed periods (month-1, month-2)\n",
    "today = datetime.now().date()\n",
    "current_period = today.replace(day=1) - relativedelta(months=1)\n",
    "prior_period = today.replace(day=1) - relativedelta(months=2)\n",
    "\n",
    "# Removes non-used periods\n",
    "columns_to_remove = list(customers_df.columns.values)\n",
    "required_columns = ('account_id', 'name', 'email', 'created_at', 'current_plan',\n",
    "                    'plan_ends_at', str(current_period), str(prior_period))\n",
    "for c in required_columns:\n",
    "    columns_to_remove.remove(c)\n",
    "\n",
    "# Keeps only last two complete invoicing periods\n",
    "customers_df.drop(columns_to_remove, axis=1, inplace=True)\n",
    "\n",
    "# Rename invoicing period columns\n",
    "customers_df.rename(columns={str(prior_period): 'prior_invoiced', \n",
    "                             str(current_period): 'current_invoiced'}, \n",
    "                    inplace=True)"
   ]
  },
  {
   "cell_type": "code",
   "execution_count": null,
   "metadata": {
    "collapsed": true
   },
   "outputs": [],
   "source": [
    "# Cleans na values\n",
    "customers_df.loc[:, 'prior_invoiced'].fillna(0, inplace=True)\n",
    "customers_df.loc[:, 'current_invoiced'].fillna(0, inplace=True)"
   ]
  },
  {
   "cell_type": "markdown",
   "metadata": {},
   "source": [
    "We complete the dataset with two new attributes:\n",
    "- behaviour: new, churn, upgrade or downgrade\n",
    "- invoiced variation: invoice variation from prior month to current"
   ]
  },
  {
   "cell_type": "code",
   "execution_count": null,
   "metadata": {
    "collapsed": true
   },
   "outputs": [],
   "source": [
    "# Enrich data\n",
    "def is_valid_invoice(value):\n",
    "    return isinstance(value, numbers.Real) and value > 0.0\n",
    "    \n",
    "def get_customer_behaviour(invoices):\n",
    "    # input: (prior_invoiced, current_invoiced)\n",
    "    # output: behaviour, invoice variation\n",
    "    prior = invoices[0] if is_valid_invoice(invoices[0]) else 0.0\n",
    "    current = invoices[1] if is_valid_invoice(invoices[1]) else 0.0\n",
    "\n",
    "    if prior == 0.0 and current > 0.0:\n",
    "        return 'New', round(current, 2)\n",
    "    if prior > 0.0 and current == 0.0:\n",
    "        return 'Churn', round(prior * -1, 2)\n",
    "    if prior < current:\n",
    "        return 'Upgrade', round(current - prior, 2)\n",
    "    elif prior > current:\n",
    "        return 'Downgrade', round(current - prior, 2)\n",
    "    return 'No change', 0.00\n",
    "\n",
    "customers_df[['behaviour', 'invoiced_var']] = customers_df[['prior_invoiced', 'current_invoiced']] \\\n",
    "                                              .apply(lambda x: pd.Series(get_customer_behaviour(x)), axis=1)"
   ]
  },
  {
   "cell_type": "code",
   "execution_count": null,
   "metadata": {
    "collapsed": false
   },
   "outputs": [],
   "source": [
    "def is_included(invoices):\n",
    "    # input: (prior_invoiced, current_invoiced)\n",
    "    return invoices[1] > 0 or invoices[0] > 0\n",
    "\n",
    "# Remove non-active accounts (those with no payments in current or prior month)\n",
    "included = customers_df[['prior_invoiced', 'current_invoiced']].apply(is_included, axis=1).values\n",
    "customers_df = customers_df[included]"
   ]
  },
  {
   "cell_type": "code",
   "execution_count": null,
   "metadata": {
    "collapsed": false
   },
   "outputs": [],
   "source": [
    "customers_df"
   ]
  },
  {
   "cell_type": "code",
   "execution_count": null,
   "metadata": {
    "collapsed": true
   },
   "outputs": [],
   "source": [
    "# Export to csv\n",
    "output_file = os.path.join(config.get('output', 'local_file_dir'),\n",
    "                           config.get('output', 'local_file_name'))\n",
    "customers_df.to_csv(output_file, encoding='utf-8', index=False)"
   ]
  },
  {
   "cell_type": "markdown",
   "metadata": {},
   "source": [
    "This example requires the file already exists in GDrive so we uploaded just an empty file in advance via web UI and kept the file ID. \n",
    "The reason is, as we are accesing GDrive using a service account, if we create a new file with this account, it will be created in GDrive"
   ]
  },
  {
   "cell_type": "code",
   "execution_count": null,
   "metadata": {
    "collapsed": true
   },
   "outputs": [],
   "source": [
    "# Updates new version of file to GDrive\n",
    "gdrive = GDrive(config.get('gdrive', 'auth_file'))\n",
    "gdrive.version(config.get('gdrive', 'output_csv_file_id'),\n",
    "               output_file,\n",
    "               'text/csv')"
   ]
  },
  {
   "cell_type": "markdown",
   "metadata": {},
   "source": [
    "That's it. Now new data is available in GDrive and can be imported to CartoDB!"
   ]
  }
 ],
 "metadata": {
  "kernelspec": {
   "display_name": "Python 2",
   "language": "python",
   "name": "python2"
  },
  "language_info": {
   "codemirror_mode": {
    "name": "ipython",
    "version": 2
   },
   "file_extension": ".py",
   "mimetype": "text/x-python",
   "name": "python",
   "nbconvert_exporter": "python",
   "pygments_lexer": "ipython2",
   "version": "2.7.9"
  }
 },
 "nbformat": 4,
 "nbformat_minor": 0
}
